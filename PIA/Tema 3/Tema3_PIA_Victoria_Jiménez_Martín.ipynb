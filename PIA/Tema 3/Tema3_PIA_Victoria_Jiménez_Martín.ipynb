{
  "nbformat": 4,
  "nbformat_minor": 0,
  "metadata": {
    "colab": {
      "provenance": []
    },
    "kernelspec": {
      "name": "python3",
      "display_name": "Python 3"
    },
    "language_info": {
      "name": "python"
    }
  },
  "cells": [
    {
      "cell_type": "markdown",
      "source": [
        "# Apartado 1: Programa tareas sencillas con Python en Colab"
      ],
      "metadata": {
        "id": "biL8axTvT5ES"
      }
    },
    {
      "cell_type": "code",
      "execution_count": null,
      "metadata": {
        "colab": {
          "base_uri": "https://localhost:8080/"
        },
        "id": "ZpcGaSbZMn5n",
        "outputId": "4e7c7efe-c971-42e6-b79a-fd7ba8289e94"
      },
      "outputs": [
        {
          "output_type": "stream",
          "name": "stdout",
          "text": [
            "The Zen of Python, by Tim Peters\n",
            "\n",
            "Beautiful is better than ugly.\n",
            "Explicit is better than implicit.\n",
            "Simple is better than complex.\n",
            "Complex is better than complicated.\n",
            "Flat is better than nested.\n",
            "Sparse is better than dense.\n",
            "Readability counts.\n",
            "Special cases aren't special enough to break the rules.\n",
            "Although practicality beats purity.\n",
            "Errors should never pass silently.\n",
            "Unless explicitly silenced.\n",
            "In the face of ambiguity, refuse the temptation to guess.\n",
            "There should be one-- and preferably only one --obvious way to do it.\n",
            "Although that way may not be obvious at first unless you're Dutch.\n",
            "Now is better than never.\n",
            "Although never is often better than *right* now.\n",
            "If the implementation is hard to explain, it's a bad idea.\n",
            "If the implementation is easy to explain, it may be a good idea.\n",
            "Namespaces are one honking great idea -- let's do more of those!\n"
          ]
        }
      ],
      "source": [
        "import this"
      ]
    },
    {
      "cell_type": "markdown",
      "source": [
        "Apartado 1: Programa tareas sencillas con Python en Colab"
      ],
      "metadata": {
        "id": "U9kv1CjgTzez"
      }
    },
    {
      "cell_type": "code",
      "source": [
        "ciudades = [\"Madrid\", \"Barcelona\", \"Valencia\", \"Sevilla\", \"Zaragoza\", \"Málaga\", \"Murcia\", \"Palma\", \"Bilbao\", \"Alicante\"]\n",
        "print(ciudades)"
      ],
      "metadata": {
        "colab": {
          "base_uri": "https://localhost:8080/"
        },
        "id": "uHMZqJOVN0VL",
        "outputId": "654e66e6-c24d-468b-c983-44b18359c208"
      },
      "execution_count": null,
      "outputs": [
        {
          "output_type": "stream",
          "name": "stdout",
          "text": [
            "['Madrid', 'Barcelona', 'Valencia', 'Sevilla', 'Zaragoza', 'Málaga', 'Murcia', 'Palma', 'Bilbao', 'Alicante']\n"
          ]
        }
      ]
    },
    {
      "cell_type": "code",
      "source": [
        "artistas = [\"Rosalía\", \"Bad Bunny\", \"Dua Lipa\", \"Drake\", \"Adele\", \"Taylor Swift\", \"Ed Sheeran\", \"Billie Eilish\", \"Bruno Mars\", \"Beyoncé\"]\n",
        "print(artistas)"
      ],
      "metadata": {
        "colab": {
          "base_uri": "https://localhost:8080/"
        },
        "id": "uUhuFAsNS9UL",
        "outputId": "26149375-16ec-467d-ddf5-663172760acb"
      },
      "execution_count": null,
      "outputs": [
        {
          "output_type": "stream",
          "name": "stdout",
          "text": [
            "['Rosalía', 'Bad Bunny', 'Dua Lipa', 'Drake', 'Adele', 'Taylor Swift', 'Ed Sheeran', 'Billie Eilish', 'Bruno Mars', 'Beyoncé']\n"
          ]
        }
      ]
    },
    {
      "cell_type": "code",
      "source": [
        "conciertos = {\n",
        "    \"Rosalía\": \"Madrid\",\n",
        "    \"Bad Bunny\": \"Barcelona\",\n",
        "    \"Dua Lipa\": \"Valencia\",\n",
        "    \"Drake\": \"Sevilla\",\n",
        "    \"Adele\": \"Zaragoza\",\n",
        "    \"Taylor Swift\": \"Málaga\",\n",
        "    \"Ed Sheeran\": \"Murcia\",\n",
        "    \"Billie Eilish\": \"Palma\",\n",
        "    \"Bruno Mars\": \"Bilbao\",\n",
        "    \"Beyoncé\": \"Alicante\"\n",
        "}"
      ],
      "metadata": {
        "id": "BT9znGYfTBL6"
      },
      "execution_count": null,
      "outputs": []
    },
    {
      "cell_type": "code",
      "source": [
        "mensaje = \"Estos son los conciertos para esta semana: \\n\" + \"\\n\".join([f\"{artista} en {ciudad}\" for artista, ciudad in conciertos.items()])\n",
        "print(mensaje)"
      ],
      "metadata": {
        "colab": {
          "base_uri": "https://localhost:8080/"
        },
        "id": "OdkPvggFTFS6",
        "outputId": "e308c85d-afef-47c0-8e53-6efa05dcc35d"
      },
      "execution_count": null,
      "outputs": [
        {
          "output_type": "stream",
          "name": "stdout",
          "text": [
            "Estos son los conciertos para esta semana: \n",
            "Rosalía en Madrid\n",
            "Bad Bunny en Barcelona\n",
            "Dua Lipa en Valencia\n",
            "Drake en Sevilla\n",
            "Adele en Zaragoza\n",
            "Taylor Swift en Málaga\n",
            "Ed Sheeran en Murcia\n",
            "Billie Eilish en Palma\n",
            "Bruno Mars en Bilbao\n",
            "Beyoncé en Alicante\n"
          ]
        }
      ]
    },
    {
      "cell_type": "code",
      "source": [
        "ciudades_rotadas = ciudades[-1:] + ciudades[:-1]\n",
        "conciertos_actualizados = {artista: ciudad for artista, ciudad in zip(artistas, ciudades_rotadas)}\n",
        "\n",
        "mensaje_actualizado = \"Estos son los conciertos para la próxima semana: \\n\" + \"\\n\".join([f\"{artista} en {ciudad}\" for artista, ciudad in conciertos_actualizados.items()])\n",
        "print(mensaje_actualizado)"
      ],
      "metadata": {
        "colab": {
          "base_uri": "https://localhost:8080/"
        },
        "id": "ff2khIKNTHuS",
        "outputId": "583ba526-b71a-4229-9744-bfc643b983e2"
      },
      "execution_count": null,
      "outputs": [
        {
          "output_type": "stream",
          "name": "stdout",
          "text": [
            "Estos son los conciertos para la próxima semana: \n",
            "Rosalía en Alicante\n",
            "Bad Bunny en Madrid\n",
            "Dua Lipa en Barcelona\n",
            "Drake en Valencia\n",
            "Adele en Sevilla\n",
            "Taylor Swift en Zaragoza\n",
            "Ed Sheeran en Málaga\n",
            "Billie Eilish en Murcia\n",
            "Bruno Mars en Palma\n",
            "Beyoncé en Bilbao\n"
          ]
        }
      ]
    },
    {
      "cell_type": "markdown",
      "source": [
        "# Apartado 2: Utiliza el lenguaje de marcación para dar contexto y documentar el notebook."
      ],
      "metadata": {
        "id": "g_ZklZlVUSRS"
      }
    },
    {
      "cell_type": "markdown",
      "source": [
        "# Título Aquí\n",
        "## Subtítulo Aquí"
      ],
      "metadata": {
        "id": "CwZJNTKyUbv6"
      }
    },
    {
      "cell_type": "markdown",
      "source": [
        "** Este es el texto en negrita**\n",
        "\n",
        "*Este es el texto en itálica*"
      ],
      "metadata": {
        "id": "t3-rliyNUiUa"
      }
    },
    {
      "cell_type": "markdown",
      "source": [
        "Enlace a la página de python\n",
        "\n",
        "[Visita la página oficial de Python](https://www.python.org)"
      ],
      "metadata": {
        "id": "GWFA9wNEUxVi"
      }
    },
    {
      "cell_type": "markdown",
      "source": [
        "Esta es la imagen\n",
        "\n",
        "![perro.jpg](data:image/jpeg;base64,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)"
      ],
      "metadata": {
        "id": "ZqVJ8qWdU4Li"
      }
    }
  ]
}